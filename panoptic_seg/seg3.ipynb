{
 "cells": [
  {
   "cell_type": "code",
   "execution_count": null,
   "id": "fa7c48fe",
   "metadata": {},
   "outputs": [
    {
     "name": "stdout",
     "output_type": "stream",
     "text": [
      "→ Already unzipped\n",
      "→ Converting to COCO‑Panoptic …\n",
      "  • train: 113 images → panoptic_train2017.json\n",
      "CONVERTING...\n",
      "COCO detection format:\n",
      "\tJSON file: /home/manulab/projects/computer vision portfolio/seg/coco_panoptic/annotations/instances_default.json\n",
      "TO\n",
      "COCO panoptic format\n",
      "\tSegmentation folder: /home/manulab/projects/computer vision portfolio/seg/coco_panoptic/panoptic_train2017\n",
      "\tJSON file: /home/manulab/projects/computer vision portfolio/seg/coco_panoptic/annotations/panoptic_train2017.json\n",
      "\n",
      "\n",
      "loading annotations into memory...\n",
      "Done (t=0.01s)\n",
      "creating index...\n",
      "index created!\n",
      "Number of cores: 32, images per core: 5\n",
      "Core: 0, 0 from 5 images processed\n",
      "Core: 1, 0 from 5 images processed\n",
      "Core: 2, 0 from 5 images processed\n",
      "Core: 3, 0 from 5 images processed\n",
      "Core: 4, 0 from 5 images processed\n",
      "Core: 6, 0 from 5 images processed\n",
      "Core: 5, 0 from 5 images processed\n",
      "Core: 7, 0 from 5 images processed\n",
      "Core: 8, 0 from 5 images processedCore: 9, 0 from 5 images processed\n",
      "\n",
      "Core: 10, 0 from 5 images processed\n",
      "Core: 11, 0 from 5 images processed\n",
      "Core: 12, 0 from 5 images processed\n",
      "Core: 13, 0 from 5 images processed\n",
      "Core: 14, 0 from 4 images processed\n",
      "Core: 15, 0 from 4 images processed\n",
      "Core: 17, 0 from 4 images processedCore: 16, 0 from 4 images processed\n",
      "\n",
      "Core: 18, 0 from 4 images processed\n",
      "Core: 19, 0 from 4 images processedCore: 20, 0 from 4 images processedCore: 21, 0 from 4 images processed\n",
      "\n",
      "\n",
      "Core: 22, 0 from 4 images processedCore: 23, 0 from 4 images processed\n",
      "\n",
      "Core: 24, 0 from 4 images processed\n",
      "Core: 26, 0 from 4 images processedCore: 25, 0 from 4 images processedCore: 27, 0 from 4 images processed\n",
      "\n",
      "\n",
      "Core: 28, 0 from 4 images processed\n",
      "Core: 29, 0 from 4 images processedCore: 30, 0 from 4 images processed\n",
      "\n",
      "Core: 31, 0 from 4 images processed\n",
      "Caught exception in worker thread:\n"
     ]
    },
    {
     "name": "stderr",
     "output_type": "stream",
     "text": [
      "Traceback (most recent call last):\n",
      "  File \"/home/manulab/.local/lib/python3.10/site-packages/panopticapi/utils.py\", line 16, in wrapper\n",
      "    return f(*args, **kwargs)\n",
      "  File \"/home/manulab/projects/computer vision portfolio/seg/panopticapi_converters/detection2panoptic_coco_format.py\", line 69, in convert_detection_to_panoptic_coco_format_single_core\n",
      "    raise Exception(\"Segments for image {} overlap each other.\".format(img_id))\n",
      "Exception: Segments for image 16 overlap each other.\n"
     ]
    },
    {
     "name": "stdout",
     "output_type": "stream",
     "text": [
      "Caught exception in worker thread:Caught exception in worker thread:\n",
      "\n"
     ]
    },
    {
     "name": "stderr",
     "output_type": "stream",
     "text": [
      "Traceback (most recent call last):\n",
      "  File \"/home/manulab/.local/lib/python3.10/site-packages/panopticapi/utils.py\", line 16, in wrapper\n",
      "    return f(*args, **kwargs)\n",
      "  File \"/home/manulab/projects/computer vision portfolio/seg/panopticapi_converters/detection2panoptic_coco_format.py\", line 69, in convert_detection_to_panoptic_coco_format_single_core\n",
      "    raise Exception(\"Segments for image {} overlap each other.\".format(img_id))\n",
      "Exception: Segments for image 6 overlap each other.\n"
     ]
    },
    {
     "name": "stdout",
     "output_type": "stream",
     "text": [
      "Caught exception in worker thread:"
     ]
    },
    {
     "name": "stderr",
     "output_type": "stream",
     "text": [
      "Traceback (most recent call last):\n",
      "  File \"/home/manulab/.local/lib/python3.10/site-packages/panopticapi/utils.py\", line 16, in wrapper\n",
      "    return f(*args, **kwargs)\n",
      "  File \"/home/manulab/projects/computer vision portfolio/seg/panopticapi_converters/detection2panoptic_coco_format.py\", line 69, in convert_detection_to_panoptic_coco_format_single_core\n",
      "    raise Exception(\"Segments for image {} overlap each other.\".format(img_id))\n"
     ]
    },
    {
     "name": "stdout",
     "output_type": "stream",
     "text": [
      "\n"
     ]
    },
    {
     "name": "stderr",
     "output_type": "stream",
     "text": [
      "Exception: Segments for image 46 overlap each other.\n",
      "Traceback (most recent call last):\n",
      "  File \"/home/manulab/.local/lib/python3.10/site-packages/panopticapi/utils.py\", line 16, in wrapper\n",
      "    return f(*args, **kwargs)\n",
      "  File \"/home/manulab/projects/computer vision portfolio/seg/panopticapi_converters/detection2panoptic_coco_format.py\", line 69, in convert_detection_to_panoptic_coco_format_single_core\n",
      "    raise Exception(\"Segments for image {} overlap each other.\".format(img_id))\n",
      "Exception: Segments for image 51 overlap each other.\n"
     ]
    },
    {
     "name": "stdout",
     "output_type": "stream",
     "text": [
      "Caught exception in worker thread:\n"
     ]
    },
    {
     "name": "stderr",
     "output_type": "stream",
     "text": [
      "Traceback (most recent call last):\n",
      "  File \"/home/manulab/.local/lib/python3.10/site-packages/panopticapi/utils.py\", line 16, in wrapper\n",
      "    return f(*args, **kwargs)\n",
      "  File \"/home/manulab/projects/computer vision portfolio/seg/panopticapi_converters/detection2panoptic_coco_format.py\", line 69, in convert_detection_to_panoptic_coco_format_single_core\n",
      "    raise Exception(\"Segments for image {} overlap each other.\".format(img_id))\n",
      "Exception: Segments for image 21 overlap each other.\n"
     ]
    },
    {
     "name": "stdout",
     "output_type": "stream",
     "text": [
      "Caught exception in worker thread:\n"
     ]
    },
    {
     "name": "stderr",
     "output_type": "stream",
     "text": [
      "Traceback (most recent call last):\n",
      "  File \"/home/manulab/.local/lib/python3.10/site-packages/panopticapi/utils.py\", line 16, in wrapper\n",
      "    return f(*args, **kwargs)\n",
      "  File \"/home/manulab/projects/computer vision portfolio/seg/panopticapi_converters/detection2panoptic_coco_format.py\", line 69, in convert_detection_to_panoptic_coco_format_single_core\n",
      "    raise Exception(\"Segments for image {} overlap each other.\".format(img_id))\n",
      "Exception: Segments for image 26 overlap each other.\n"
     ]
    },
    {
     "name": "stdout",
     "output_type": "stream",
     "text": [
      "Caught exception in worker thread:\n"
     ]
    },
    {
     "name": "stderr",
     "output_type": "stream",
     "text": [
      "Traceback (most recent call last):\n",
      "  File \"/home/manulab/.local/lib/python3.10/site-packages/panopticapi/utils.py\", line 16, in wrapper\n",
      "    return f(*args, **kwargs)\n",
      "  File \"/home/manulab/projects/computer vision portfolio/seg/panopticapi_converters/detection2panoptic_coco_format.py\", line 69, in convert_detection_to_panoptic_coco_format_single_core\n",
      "    raise Exception(\"Segments for image {} overlap each other.\".format(img_id))\n",
      "Exception: Segments for image 135 overlap each other.\n"
     ]
    },
    {
     "name": "stdout",
     "output_type": "stream",
     "text": [
      "Caught exception in worker thread:\n"
     ]
    },
    {
     "name": "stderr",
     "output_type": "stream",
     "text": [
      "Traceback (most recent call last):\n",
      "  File \"/home/manulab/.local/lib/python3.10/site-packages/panopticapi/utils.py\", line 16, in wrapper\n",
      "    return f(*args, **kwargs)\n",
      "  File \"/home/manulab/projects/computer vision portfolio/seg/panopticapi_converters/detection2panoptic_coco_format.py\", line 69, in convert_detection_to_panoptic_coco_format_single_core\n",
      "    raise Exception(\"Segments for image {} overlap each other.\".format(img_id))\n",
      "Exception: Segments for image 107 overlap each other.\n"
     ]
    },
    {
     "name": "stdout",
     "output_type": "stream",
     "text": [
      "Caught exception in worker thread:Caught exception in worker thread:\n"
     ]
    },
    {
     "name": "stderr",
     "output_type": "stream",
     "text": [
      "Traceback (most recent call last):\n"
     ]
    },
    {
     "name": "stdout",
     "output_type": "stream",
     "text": [
      "\n"
     ]
    },
    {
     "name": "stderr",
     "output_type": "stream",
     "text": [
      "Traceback (most recent call last):\n",
      "  File \"/home/manulab/.local/lib/python3.10/site-packages/panopticapi/utils.py\", line 16, in wrapper\n",
      "    return f(*args, **kwargs)\n",
      "  File \"/home/manulab/.local/lib/python3.10/site-packages/panopticapi/utils.py\", line 16, in wrapper\n",
      "    return f(*args, **kwargs)\n",
      "  File \"/home/manulab/projects/computer vision portfolio/seg/panopticapi_converters/detection2panoptic_coco_format.py\", line 69, in convert_detection_to_panoptic_coco_format_single_core\n",
      "    raise Exception(\"Segments for image {} overlap each other.\".format(img_id))\n",
      "Exception: Segments for image 115 overlap each other.\n",
      "  File \"/home/manulab/projects/computer vision portfolio/seg/panopticapi_converters/detection2panoptic_coco_format.py\", line 69, in convert_detection_to_panoptic_coco_format_single_core\n",
      "    raise Exception(\"Segments for image {} overlap each other.\".format(img_id))\n",
      "Exception: Segments for image 95 overlap each other.\n"
     ]
    },
    {
     "name": "stdout",
     "output_type": "stream",
     "text": [
      "Caught exception in worker thread:\n"
     ]
    },
    {
     "name": "stderr",
     "output_type": "stream",
     "text": [
      "Traceback (most recent call last):\n",
      "  File \"/home/manulab/.local/lib/python3.10/site-packages/panopticapi/utils.py\", line 16, in wrapper\n",
      "    return f(*args, **kwargs)\n",
      "  File \"/home/manulab/projects/computer vision portfolio/seg/panopticapi_converters/detection2panoptic_coco_format.py\", line 69, in convert_detection_to_panoptic_coco_format_single_core\n",
      "    raise Exception(\"Segments for image {} overlap each other.\".format(img_id))\n",
      "Exception: Segments for image 1 overlap each other.\n"
     ]
    },
    {
     "name": "stdout",
     "output_type": "stream",
     "text": [
      "Caught exception in worker thread:\n"
     ]
    },
    {
     "name": "stderr",
     "output_type": "stream",
     "text": [
      "Traceback (most recent call last):\n",
      "  File \"/home/manulab/.local/lib/python3.10/site-packages/panopticapi/utils.py\", line 16, in wrapper\n",
      "    return f(*args, **kwargs)\n"
     ]
    },
    {
     "ename": "Exception",
     "evalue": "Segments for image 1 overlap each other.",
     "output_type": "error",
     "traceback": [
      "\u001b[0;31m---------------------------------------------------------------------------\u001b[0m",
      "\u001b[0;31mRemoteTraceback\u001b[0m                           Traceback (most recent call last)",
      "\u001b[0;31mRemoteTraceback\u001b[0m: \n\"\"\"\nTraceback (most recent call last):\n  File \"/usr/lib/python3.10/multiprocessing/pool.py\", line 125, in worker\n    result = (True, func(*args, **kwds))\n  File \"/home/manulab/.local/lib/python3.10/site-packages/panopticapi/utils.py\", line 20, in wrapper\n    raise e\n  File \"/home/manulab/.local/lib/python3.10/site-packages/panopticapi/utils.py\", line 16, in wrapper\n    return f(*args, **kwargs)\n  File \"/home/manulab/projects/computer vision portfolio/seg/panopticapi_converters/detection2panoptic_coco_format.py\", line 69, in convert_detection_to_panoptic_coco_format_single_core\n    raise Exception(\"Segments for image {} overlap each other.\".format(img_id))\nException: Segments for image 1 overlap each other.\n\"\"\"",
      "\nThe above exception was the direct cause of the following exception:\n",
      "\u001b[0;31mException\u001b[0m                                 Traceback (most recent call last)",
      "Cell \u001b[0;32mIn[25], line 105\u001b[0m\n\u001b[1;32m    103\u001b[0m         out_json \u001b[38;5;241m=\u001b[39m anno_out \u001b[38;5;241m/\u001b[39m jn\n\u001b[1;32m    104\u001b[0m         \u001b[38;5;28mprint\u001b[39m(\u001b[38;5;124mf\u001b[39m\u001b[38;5;124m\"\u001b[39m\u001b[38;5;124m  • \u001b[39m\u001b[38;5;132;01m{\u001b[39;00msplit\u001b[38;5;132;01m}\u001b[39;00m\u001b[38;5;124m: \u001b[39m\u001b[38;5;132;01m{\u001b[39;00m\u001b[38;5;28mlen\u001b[39m(idset)\u001b[38;5;132;01m}\u001b[39;00m\u001b[38;5;124m images → \u001b[39m\u001b[38;5;132;01m{\u001b[39;00mout_json\u001b[38;5;241m.\u001b[39mname\u001b[38;5;132;01m}\u001b[39;00m\u001b[38;5;124m\"\u001b[39m)\n\u001b[0;32m--> 105\u001b[0m         \u001b[43mconvert_detection_to_panoptic_coco_format\u001b[49m\u001b[43m(\u001b[49m\n\u001b[1;32m    106\u001b[0m \u001b[43m            \u001b[49m\u001b[43minput_json_file\u001b[49m\u001b[43m      \u001b[49m\u001b[38;5;241;43m=\u001b[39;49m\u001b[43m \u001b[49m\u001b[38;5;28;43mstr\u001b[39;49m\u001b[43m(\u001b[49m\u001b[43mcvat_ann\u001b[49m\u001b[43m)\u001b[49m\u001b[43m,\u001b[49m\n\u001b[1;32m    107\u001b[0m \u001b[43m            \u001b[49m\u001b[43msegmentations_folder\u001b[49m\u001b[43m \u001b[49m\u001b[38;5;241;43m=\u001b[39;49m\u001b[43m \u001b[49m\u001b[38;5;28;43mstr\u001b[39;49m\u001b[43m(\u001b[49m\u001b[43mpano_dir\u001b[49m\u001b[43m)\u001b[49m\u001b[43m,\u001b[49m\n\u001b[1;32m    108\u001b[0m \u001b[43m            \u001b[49m\u001b[43moutput_json_file\u001b[49m\u001b[43m     \u001b[49m\u001b[38;5;241;43m=\u001b[39;49m\u001b[43m \u001b[49m\u001b[38;5;28;43mstr\u001b[39;49m\u001b[43m(\u001b[49m\u001b[43mout_json\u001b[49m\u001b[43m)\u001b[49m\u001b[43m,\u001b[49m\n\u001b[1;32m    109\u001b[0m \u001b[43m            \u001b[49m\u001b[43mcategories_json_file\u001b[49m\u001b[43m \u001b[49m\u001b[38;5;241;43m=\u001b[39;49m\u001b[43m \u001b[49m\u001b[38;5;28;43mstr\u001b[39;49m\u001b[43m(\u001b[49m\u001b[43mconv_dir\u001b[49m\u001b[43m \u001b[49m\u001b[38;5;241;43m/\u001b[39;49m\u001b[43m \u001b[49m\u001b[38;5;124;43m\"\u001b[39;49m\u001b[38;5;124;43mpanoptic_coco_categories.json\u001b[39;49m\u001b[38;5;124;43m\"\u001b[39;49m\u001b[43m)\u001b[49m\n\u001b[1;32m    110\u001b[0m \u001b[43m        \u001b[49m\u001b[43m)\u001b[49m\n\u001b[1;32m    111\u001b[0m \u001b[38;5;28;01melse\u001b[39;00m:\n\u001b[1;32m    112\u001b[0m     \u001b[38;5;28mprint\u001b[39m(\u001b[38;5;124m\"\u001b[39m\u001b[38;5;124m→ Panoptic JSON & masks already present – skipping\u001b[39m\u001b[38;5;124m\"\u001b[39m)\n",
      "File \u001b[0;32m~/projects/computer vision portfolio/seg/panopticapi_converters/detection2panoptic_coco_format.py:118\u001b[0m, in \u001b[0;36mconvert_detection_to_panoptic_coco_format\u001b[0;34m(input_json_file, segmentations_folder, output_json_file, categories_json_file)\u001b[0m\n\u001b[1;32m    116\u001b[0m annotations_coco_panoptic \u001b[38;5;241m=\u001b[39m []\n\u001b[1;32m    117\u001b[0m \u001b[38;5;28;01mfor\u001b[39;00m p \u001b[38;5;129;01min\u001b[39;00m processes:\n\u001b[0;32m--> 118\u001b[0m     annotations_coco_panoptic\u001b[38;5;241m.\u001b[39mextend(\u001b[43mp\u001b[49m\u001b[38;5;241;43m.\u001b[39;49m\u001b[43mget\u001b[49m\u001b[43m(\u001b[49m\u001b[43m)\u001b[49m)\n\u001b[1;32m    120\u001b[0m \u001b[38;5;28;01mwith\u001b[39;00m \u001b[38;5;28mopen\u001b[39m(input_json_file, \u001b[38;5;124m'\u001b[39m\u001b[38;5;124mr\u001b[39m\u001b[38;5;124m'\u001b[39m) \u001b[38;5;28;01mas\u001b[39;00m f:\n\u001b[1;32m    121\u001b[0m     d_coco \u001b[38;5;241m=\u001b[39m json\u001b[38;5;241m.\u001b[39mload(f)\n",
      "File \u001b[0;32m/usr/lib/python3.10/multiprocessing/pool.py:774\u001b[0m, in \u001b[0;36mApplyResult.get\u001b[0;34m(self, timeout)\u001b[0m\n\u001b[1;32m    772\u001b[0m     \u001b[38;5;28;01mreturn\u001b[39;00m \u001b[38;5;28mself\u001b[39m\u001b[38;5;241m.\u001b[39m_value\n\u001b[1;32m    773\u001b[0m \u001b[38;5;28;01melse\u001b[39;00m:\n\u001b[0;32m--> 774\u001b[0m     \u001b[38;5;28;01mraise\u001b[39;00m \u001b[38;5;28mself\u001b[39m\u001b[38;5;241m.\u001b[39m_value\n",
      "\u001b[0;31mException\u001b[0m: Segments for image 1 overlap each other."
     ]
    },
    {
     "name": "stderr",
     "output_type": "stream",
     "text": [
      "  File \"/home/manulab/projects/computer vision portfolio/seg/panopticapi_converters/detection2panoptic_coco_format.py\", line 69, in convert_detection_to_panoptic_coco_format_single_core\n",
      "    raise Exception(\"Segments for image {} overlap each other.\".format(img_id))\n",
      "Exception: Segments for image 41 overlap each other.\n"
     ]
    },
    {
     "name": "stdout",
     "output_type": "stream",
     "text": [
      "Caught exception in worker thread:\n"
     ]
    },
    {
     "name": "stderr",
     "output_type": "stream",
     "text": [
      "Traceback (most recent call last):\n",
      "  File \"/home/manulab/.local/lib/python3.10/site-packages/panopticapi/utils.py\", line 16, in wrapper\n",
      "    return f(*args, **kwargs)\n",
      "  File \"/home/manulab/projects/computer vision portfolio/seg/panopticapi_converters/detection2panoptic_coco_format.py\", line 69, in convert_detection_to_panoptic_coco_format_single_core\n",
      "    raise Exception(\"Segments for image {} overlap each other.\".format(img_id))\n",
      "Exception: Segments for image 66 overlap each other.\n"
     ]
    },
    {
     "name": "stdout",
     "output_type": "stream",
     "text": [
      "Caught exception in worker thread:\n"
     ]
    },
    {
     "name": "stderr",
     "output_type": "stream",
     "text": [
      "Traceback (most recent call last):\n",
      "  File \"/home/manulab/.local/lib/python3.10/site-packages/panopticapi/utils.py\", line 16, in wrapper\n",
      "    return f(*args, **kwargs)\n",
      "  File \"/home/manulab/projects/computer vision portfolio/seg/panopticapi_converters/detection2panoptic_coco_format.py\", line 69, in convert_detection_to_panoptic_coco_format_single_core\n",
      "    raise Exception(\"Segments for image {} overlap each other.\".format(img_id))\n",
      "Exception: Segments for image 111 overlap each other.\n"
     ]
    },
    {
     "name": "stdout",
     "output_type": "stream",
     "text": [
      "Caught exception in worker thread:\n"
     ]
    },
    {
     "name": "stderr",
     "output_type": "stream",
     "text": [
      "Traceback (most recent call last):\n",
      "  File \"/home/manulab/.local/lib/python3.10/site-packages/panopticapi/utils.py\", line 16, in wrapper\n",
      "    return f(*args, **kwargs)\n",
      "  File \"/home/manulab/projects/computer vision portfolio/seg/panopticapi_converters/detection2panoptic_coco_format.py\", line 69, in convert_detection_to_panoptic_coco_format_single_core\n",
      "    raise Exception(\"Segments for image {} overlap each other.\".format(img_id))\n",
      "Exception: Segments for image 79 overlap each other.\n"
     ]
    },
    {
     "name": "stdout",
     "output_type": "stream",
     "text": [
      "Caught exception in worker thread:\n"
     ]
    },
    {
     "name": "stderr",
     "output_type": "stream",
     "text": [
      "Traceback (most recent call last):\n",
      "  File \"/home/manulab/.local/lib/python3.10/site-packages/panopticapi/utils.py\", line 16, in wrapper\n",
      "    return f(*args, **kwargs)\n",
      "  File \"/home/manulab/projects/computer vision portfolio/seg/panopticapi_converters/detection2panoptic_coco_format.py\", line 69, in convert_detection_to_panoptic_coco_format_single_core\n",
      "    raise Exception(\"Segments for image {} overlap each other.\".format(img_id))\n",
      "Exception: Segments for image 99 overlap each other.\n"
     ]
    },
    {
     "name": "stdout",
     "output_type": "stream",
     "text": [
      "Caught exception in worker thread:\n"
     ]
    },
    {
     "name": "stderr",
     "output_type": "stream",
     "text": [
      "Traceback (most recent call last):\n",
      "  File \"/home/manulab/.local/lib/python3.10/site-packages/panopticapi/utils.py\", line 16, in wrapper\n",
      "    return f(*args, **kwargs)\n",
      "  File \"/home/manulab/projects/computer vision portfolio/seg/panopticapi_converters/detection2panoptic_coco_format.py\", line 69, in convert_detection_to_panoptic_coco_format_single_core\n",
      "    raise Exception(\"Segments for image {} overlap each other.\".format(img_id))\n",
      "Exception: Segments for image 75 overlap each other.\n"
     ]
    },
    {
     "name": "stdout",
     "output_type": "stream",
     "text": [
      "Caught exception in worker thread:\n",
      "Caught exception in worker thread:\n"
     ]
    },
    {
     "name": "stderr",
     "output_type": "stream",
     "text": [
      "Traceback (most recent call last):\n",
      "  File \"/home/manulab/.local/lib/python3.10/site-packages/panopticapi/utils.py\", line 16, in wrapper\n",
      "    return f(*args, **kwargs)\n",
      "  File \"/home/manulab/projects/computer vision portfolio/seg/panopticapi_converters/detection2panoptic_coco_format.py\", line 69, in convert_detection_to_panoptic_coco_format_single_core\n",
      "    raise Exception(\"Segments for image {} overlap each other.\".format(img_id))\n",
      "Traceback (most recent call last):\n",
      "Exception: Segments for image 83 overlap each other.\n",
      "  File \"/home/manulab/.local/lib/python3.10/site-packages/panopticapi/utils.py\", line 16, in wrapper\n",
      "    return f(*args, **kwargs)\n",
      "  File \"/home/manulab/projects/computer vision portfolio/seg/panopticapi_converters/detection2panoptic_coco_format.py\", line 69, in convert_detection_to_panoptic_coco_format_single_core\n",
      "    raise Exception(\"Segments for image {} overlap each other.\".format(img_id))\n",
      "Exception: Segments for image 91 overlap each other.\n"
     ]
    },
    {
     "name": "stdout",
     "output_type": "stream",
     "text": [
      "Caught exception in worker thread:\n"
     ]
    },
    {
     "name": "stderr",
     "output_type": "stream",
     "text": [
      "Traceback (most recent call last):\n",
      "  File \"/home/manulab/.local/lib/python3.10/site-packages/panopticapi/utils.py\", line 16, in wrapper\n",
      "    return f(*args, **kwargs)\n",
      "  File \"/home/manulab/projects/computer vision portfolio/seg/panopticapi_converters/detection2panoptic_coco_format.py\", line 69, in convert_detection_to_panoptic_coco_format_single_core\n",
      "    raise Exception(\"Segments for image {} overlap each other.\".format(img_id))\n",
      "Exception: Segments for image 56 overlap each other.\n"
     ]
    },
    {
     "name": "stdout",
     "output_type": "stream",
     "text": [
      "Caught exception in worker thread:\n"
     ]
    },
    {
     "name": "stderr",
     "output_type": "stream",
     "text": [
      "Traceback (most recent call last):\n"
     ]
    },
    {
     "name": "stdout",
     "output_type": "stream",
     "text": [
      "Caught exception in worker thread:"
     ]
    },
    {
     "name": "stderr",
     "output_type": "stream",
     "text": [
      "  File \"/home/manulab/.local/lib/python3.10/site-packages/panopticapi/utils.py\", line 16, in wrapper\n",
      "    return f(*args, **kwargs)\n"
     ]
    },
    {
     "name": "stdout",
     "output_type": "stream",
     "text": [
      "\n"
     ]
    },
    {
     "name": "stderr",
     "output_type": "stream",
     "text": [
      "  File \"/home/manulab/projects/computer vision portfolio/seg/panopticapi_converters/detection2panoptic_coco_format.py\", line 69, in convert_detection_to_panoptic_coco_format_single_core\n",
      "    raise Exception(\"Segments for image {} overlap each other.\".format(img_id))\n",
      "Exception: Segments for image 103 overlap each other.\n",
      "Traceback (most recent call last):\n",
      "  File \"/home/manulab/.local/lib/python3.10/site-packages/panopticapi/utils.py\", line 16, in wrapper\n",
      "    return f(*args, **kwargs)\n",
      "  File \"/home/manulab/projects/computer vision portfolio/seg/panopticapi_converters/detection2panoptic_coco_format.py\", line 69, in convert_detection_to_panoptic_coco_format_single_core\n",
      "    raise Exception(\"Segments for image {} overlap each other.\".format(img_id))\n",
      "Exception: Segments for image 61 overlap each other.\n"
     ]
    },
    {
     "name": "stdout",
     "output_type": "stream",
     "text": [
      "Caught exception in worker thread:\n"
     ]
    },
    {
     "name": "stderr",
     "output_type": "stream",
     "text": [
      "Traceback (most recent call last):\n",
      "  File \"/home/manulab/.local/lib/python3.10/site-packages/panopticapi/utils.py\", line 16, in wrapper\n",
      "    return f(*args, **kwargs)\n",
      "  File \"/home/manulab/projects/computer vision portfolio/seg/panopticapi_converters/detection2panoptic_coco_format.py\", line 69, in convert_detection_to_panoptic_coco_format_single_core\n",
      "    raise Exception(\"Segments for image {} overlap each other.\".format(img_id))\n",
      "Exception: Segments for image 131 overlap each other.\n"
     ]
    },
    {
     "name": "stdout",
     "output_type": "stream",
     "text": [
      "Caught exception in worker thread:\n"
     ]
    },
    {
     "name": "stderr",
     "output_type": "stream",
     "text": [
      "Traceback (most recent call last):\n",
      "  File \"/home/manulab/.local/lib/python3.10/site-packages/panopticapi/utils.py\", line 16, in wrapper\n",
      "    return f(*args, **kwargs)\n",
      "  File \"/home/manulab/projects/computer vision portfolio/seg/panopticapi_converters/detection2panoptic_coco_format.py\", line 69, in convert_detection_to_panoptic_coco_format_single_core\n",
      "    raise Exception(\"Segments for image {} overlap each other.\".format(img_id))\n",
      "Exception: Segments for image 139 overlap each other.\n"
     ]
    },
    {
     "name": "stdout",
     "output_type": "stream",
     "text": [
      "Caught exception in worker thread:\n"
     ]
    },
    {
     "name": "stderr",
     "output_type": "stream",
     "text": [
      "Traceback (most recent call last):\n",
      "  File \"/home/manulab/.local/lib/python3.10/site-packages/panopticapi/utils.py\", line 16, in wrapper\n",
      "    return f(*args, **kwargs)\n",
      "  File \"/home/manulab/projects/computer vision portfolio/seg/panopticapi_converters/detection2panoptic_coco_format.py\", line 69, in convert_detection_to_panoptic_coco_format_single_core\n",
      "    raise Exception(\"Segments for image {} overlap each other.\".format(img_id))\n",
      "Exception: Segments for image 88 overlap each other.\n"
     ]
    },
    {
     "name": "stdout",
     "output_type": "stream",
     "text": [
      "Caught exception in worker thread:\n"
     ]
    },
    {
     "name": "stderr",
     "output_type": "stream",
     "text": [
      "Traceback (most recent call last):\n",
      "  File \"/home/manulab/.local/lib/python3.10/site-packages/panopticapi/utils.py\", line 16, in wrapper\n",
      "    return f(*args, **kwargs)\n",
      "  File \"/home/manulab/projects/computer vision portfolio/seg/panopticapi_converters/detection2panoptic_coco_format.py\", line 69, in convert_detection_to_panoptic_coco_format_single_core\n",
      "    raise Exception(\"Segments for image {} overlap each other.\".format(img_id))\n",
      "Exception: Segments for image 72 overlap each other.\n"
     ]
    },
    {
     "name": "stdout",
     "output_type": "stream",
     "text": [
      "Caught exception in worker thread:\n"
     ]
    },
    {
     "name": "stderr",
     "output_type": "stream",
     "text": [
      "Traceback (most recent call last):\n",
      "  File \"/home/manulab/.local/lib/python3.10/site-packages/panopticapi/utils.py\", line 16, in wrapper\n",
      "    return f(*args, **kwargs)\n",
      "  File \"/home/manulab/projects/computer vision portfolio/seg/panopticapi_converters/detection2panoptic_coco_format.py\", line 69, in convert_detection_to_panoptic_coco_format_single_core\n",
      "    raise Exception(\"Segments for image {} overlap each other.\".format(img_id))\n",
      "Exception: Segments for image 128 overlap each other.\n"
     ]
    },
    {
     "name": "stdout",
     "output_type": "stream",
     "text": [
      "Caught exception in worker thread:\n"
     ]
    },
    {
     "name": "stderr",
     "output_type": "stream",
     "text": [
      "Traceback (most recent call last):\n",
      "  File \"/home/manulab/.local/lib/python3.10/site-packages/panopticapi/utils.py\", line 16, in wrapper\n",
      "    return f(*args, **kwargs)\n",
      "  File \"/home/manulab/projects/computer vision portfolio/seg/panopticapi_converters/detection2panoptic_coco_format.py\", line 69, in convert_detection_to_panoptic_coco_format_single_core\n",
      "    raise Exception(\"Segments for image {} overlap each other.\".format(img_id))\n",
      "Exception: Segments for image 125 overlap each other.\n"
     ]
    },
    {
     "name": "stdout",
     "output_type": "stream",
     "text": [
      "Caught exception in worker thread:\n"
     ]
    },
    {
     "name": "stderr",
     "output_type": "stream",
     "text": [
      "Traceback (most recent call last):\n",
      "  File \"/home/manulab/.local/lib/python3.10/site-packages/panopticapi/utils.py\", line 16, in wrapper\n",
      "    return f(*args, **kwargs)\n",
      "  File \"/home/manulab/projects/computer vision portfolio/seg/panopticapi_converters/detection2panoptic_coco_format.py\", line 69, in convert_detection_to_panoptic_coco_format_single_core\n",
      "    raise Exception(\"Segments for image {} overlap each other.\".format(img_id))\n",
      "Exception: Segments for image 38 overlap each other.\n"
     ]
    },
    {
     "name": "stdout",
     "output_type": "stream",
     "text": [
      "Caught exception in worker thread:\n"
     ]
    },
    {
     "name": "stderr",
     "output_type": "stream",
     "text": [
      "Traceback (most recent call last):\n",
      "  File \"/home/manulab/.local/lib/python3.10/site-packages/panopticapi/utils.py\", line 16, in wrapper\n",
      "    return f(*args, **kwargs)\n",
      "  File \"/home/manulab/projects/computer vision portfolio/seg/panopticapi_converters/detection2panoptic_coco_format.py\", line 69, in convert_detection_to_panoptic_coco_format_single_core\n",
      "    raise Exception(\"Segments for image {} overlap each other.\".format(img_id))\n",
      "Exception: Segments for image 34 overlap each other.\n"
     ]
    },
    {
     "name": "stdout",
     "output_type": "stream",
     "text": [
      "Caught exception in worker thread:\n"
     ]
    },
    {
     "name": "stderr",
     "output_type": "stream",
     "text": [
      "Traceback (most recent call last):\n",
      "  File \"/home/manulab/.local/lib/python3.10/site-packages/panopticapi/utils.py\", line 16, in wrapper\n",
      "    return f(*args, **kwargs)\n",
      "  File \"/home/manulab/projects/computer vision portfolio/seg/panopticapi_converters/detection2panoptic_coco_format.py\", line 69, in convert_detection_to_panoptic_coco_format_single_core\n",
      "    raise Exception(\"Segments for image {} overlap each other.\".format(img_id))\n",
      "Exception: Segments for image 15 overlap each other.\n"
     ]
    },
    {
     "name": "stdout",
     "output_type": "stream",
     "text": [
      "Core: 26, all 4 images processed\n"
     ]
    }
   ],
   "source": [
    "# =============================================================================\n",
    "# All‑in‑one: install, clone converter, unzip, split, convert, register, train & eval\n",
    "# =============================================================================\n",
    "\n",
    "# 0) Install Detectron2 & basic PanopticAPI utilities\n",
    "!pip install -q detectron2 -U\n",
    "!pip install -q git+https://github.com/cocodataset/panopticapi.git\n",
    "\n",
    "import os, sys, json, random, zipfile, shutil\n",
    "from pathlib import Path\n",
    "\n",
    "import numpy as np\n",
    "import torch, cv2\n",
    "from detectron2.data.datasets.coco_panoptic import register_coco_panoptic\n",
    "from detectron2.data import MetadataCatalog, DatasetCatalog, build_detection_test_loader\n",
    "from detectron2.engine import DefaultTrainer\n",
    "from detectron2.evaluation import COCOPanopticEvaluator, inference_on_dataset\n",
    "from detectron2 import model_zoo\n",
    "from detectron2.config import get_cfg\n",
    "\n",
    "torch.backends.cudnn.benchmark = True  # speed boost on GPU\n",
    "\n",
    "# =============================================================================\n",
    "# 1) Clone only the PanopticAPI converters folder (if not present)\n",
    "# =============================================================================\n",
    "conv_dir = Path.cwd() / \"panopticapi_converters\"\n",
    "if not conv_dir.exists():\n",
    "    print(\"Cloning PanopticAPI converters…\")\n",
    "    !git clone --depth=1 https://github.com/cocodataset/panopticapi.git panopticapi_src\n",
    "    (Path.cwd() / \"panopticapi_src\" / \"converters\").rename(conv_dir)\n",
    "    shutil.rmtree(\"panopticapi_src\", ignore_errors=True)\n",
    "\n",
    "# 2) Make that folder importable\n",
    "sys.path.insert(0, str(conv_dir))\n",
    "from detection2panoptic_coco_format import convert_detection_to_panoptic_coco_format\n",
    "from panopticapi.utils import IdGenerator\n",
    "\n",
    "# =============================================================================\n",
    "# 3) Paths & parameters (idempotent)\n",
    "# =============================================================================\n",
    "zip_path    = Path(\"/home/manulab/Downloads/coco.zip.zip\")  # your zip\n",
    "nb_dir      = Path(\"/home/manulab/projects/computer vision portfolio/seg\")\n",
    "work_dir    = nb_dir / \"coco_panoptic\"\n",
    "split_ratio = 0.8  # 80/20 train/val split\n",
    "\n",
    "work_dir.mkdir(parents=True, exist_ok=True)\n",
    "\n",
    "# =============================================================================\n",
    "# 4) Unzip (idempotent)\n",
    "# =============================================================================\n",
    "flag = work_dir / \".unzipped\"\n",
    "if not flag.exists():\n",
    "    print(\"→ Unzipping coco.zip …\")\n",
    "    with zipfile.ZipFile(zip_path, \"r\") as z:\n",
    "        z.extractall(work_dir)\n",
    "    flag.touch()\n",
    "else:\n",
    "    print(\"→ Already unzipped\")\n",
    "\n",
    "# =============================================================================\n",
    "# 5) Point to your **fixed** layout\n",
    "# =============================================================================\n",
    "images_dir = Path(\"/home/manulab/projects/computer vision portfolio/seg/coco_panoptic/images\")\n",
    "cvat_ann   = Path(\"/home/manulab/projects/computer vision portfolio/seg/coco_panoptic/annotations/instances_default.json\")\n",
    "\n",
    "\n",
    "# =============================================================================\n",
    "# 6) Build panoptic masks (idempotent)\n",
    "# =============================================================================\n",
    "pan_train  = work_dir / \"panoptic_train2017\"\n",
    "pan_val    = work_dir / \"panoptic_val2017\"\n",
    "train_imgs = work_dir / \"train2017\"\n",
    "val_imgs   = work_dir / \"val2017\"\n",
    "\n",
    "if not (anno_out / \"panoptic_train2017.json\").exists():\n",
    "    print(\"→ Converting to COCO‑Panoptic …\")\n",
    "    img_ids   = [im[\"id\"] for im in coco[\"images\"]]\n",
    "    random.seed(42)\n",
    "    random.shuffle(img_ids)\n",
    "    train_ids = set(img_ids[:int(len(img_ids)*split_ratio)])\n",
    "    val_ids   = set(img_ids[int(len(img_ids)*split_ratio):])\n",
    "\n",
    "    # Copy images into train/val folders\n",
    "    train_imgs.mkdir(exist_ok=True)\n",
    "    val_imgs.mkdir(exist_ok=True)\n",
    "    for im in coco[\"images\"]:\n",
    "        src     = images_dir / im[\"file_name\"].split('/')[-1]\n",
    "        dst_dir = train_imgs if im[\"id\"] in train_ids else val_imgs\n",
    "        # Check if the source file exists before copying\n",
    "        if not src.exists():\n",
    "            print(f\"Warning: Source file not found: {src}. Skipping this file.\")\n",
    "            continue\n",
    "        shutil.copy2(src, dst_dir / im[\"file_name\"].split('/')[-1])\n",
    "\n",
    "    # Run panoptic conversion\n",
    "    for split, idset, pano_dir, jn in [\n",
    "        (\"train\", train_ids, pan_train, \"panoptic_train2017.json\"),\n",
    "        (\"val\",   val_ids,   pan_val,   \"panoptic_val2017.json\")\n",
    "    ]:\n",
    "        pano_dir.mkdir(exist_ok=True)\n",
    "        # Ensure 'images' subdirectory exists\n",
    "        (pano_dir / 'images').mkdir(parents=True, exist_ok=True)\n",
    "        out_json = anno_out / jn\n",
    "        print(f\"  • {split}: {len(idset)} images → {out_json.name}\")\n",
    "        convert_detection_to_panoptic_coco_format(\n",
    "            input_json_file      = str(cvat_ann),\n",
    "            segmentations_folder = str(pano_dir),\n",
    "            output_json_file     = str(out_json),\n",
    "            categories_json_file = str(conv_dir / \"panoptic_coco_categories.json\")\n",
    "        )\n",
    "else:\n",
    "    print(\"→ Panoptic JSON & masks already present – skipping\")\n",
    "# =============================================================================\n",
    "# 7) Register with Detectron2 & train\n",
    "# =============================================================================\n",
    "def register_split(name, img_dir, pan_dir, json_f):\n",
    "    if name in DatasetCatalog.list():\n",
    "        return name\n",
    "    register_coco_panoptic(\n",
    "        name,\n",
    "        metadata={},\n",
    "        image_root=str(img_dir),\n",
    "        panoptic_root=str(pan_dir),\n",
    "        panoptic_json=str(json_f),\n",
    "        instances_json=\"\"\n",
    "    )\n",
    "    return name\n",
    "\n",
    "train_name = register_split(\n",
    "    \"cvat_pan_train\",\n",
    "    train_imgs,\n",
    "    pan_train,\n",
    "    anno_out / \"panoptic_train2017.json\"\n",
    ")\n",
    "val_name = register_split(\n",
    "    \"cvat_pan_val\",\n",
    "    val_imgs,\n",
    "    pan_val,\n",
    "    anno_out / \"panoptic_val2017.json\"\n",
    ")\n",
    "print(\"Datasets:\", train_name, val_name)\n",
    "\n",
    "cfg = get_cfg()\n",
    "cfg.merge_from_file(model_zoo.get_config_file(\n",
    "    \"COCO-PanopticSegmentation/panoptic_fpn_R_101_3x.yaml\"\n",
    "))\n",
    "cfg.DATASETS.TRAIN = (train_name,)\n",
    "cfg.DATASETS.TEST  = (val_name,)\n",
    "cfg.SOLVER.IMS_PER_BATCH     = 4\n",
    "cfg.SOLVER.BASE_LR           = 1e-3\n",
    "cfg.SOLVER.MAX_ITER          = 10_000\n",
    "cfg.SOLVER.STEPS             = (6_000, 8_000)\n",
    "cfg.SOLVER.CHECKPOINT_PERIOD = 1_000\n",
    "cfg.TEST.EVAL_PERIOD         = 1_000\n",
    "cfg.DATALOADER.NUM_WORKERS   = 4\n",
    "cfg.MODEL.WEIGHTS = model_zoo.get_checkpoint_url(\n",
    "    \"COCO-PanopticSegmentation/panoptic_fpn_R_101_3x.yaml\"\n",
    ")\n",
    "cfg.OUTPUT_DIR = str(nb_dir / \"output_panoptic_fpn\")\n",
    "os.makedirs(cfg.OUTPUT_DIR, exist_ok=True)\n",
    "\n",
    "trainer = DefaultTrainer(cfg)\n",
    "trainer.resume_or_load(False)\n",
    "trainer.train()\n",
    "\n",
    "# =============================================================================\n",
    "# 8) Evaluate\n",
    "# =============================================================================\n",
    "evaluator  = COCOPanopticEvaluator(val_name, output_dir=cfg.OUTPUT_DIR)\n",
    "val_loader = build_detection_test_loader(cfg, val_name)\n",
    "metrics    = inference_on_dataset(trainer.model, val_loader, evaluator)\n",
    "print(\"Panoptic metrics:\\n\", metrics)\n"
   ]
  },
  {
   "cell_type": "code",
   "execution_count": null,
   "id": "13bcf038",
   "metadata": {},
   "outputs": [],
   "source": []
  },
  {
   "cell_type": "code",
   "execution_count": null,
   "id": "1f89f6a9",
   "metadata": {},
   "outputs": [],
   "source": []
  }
 ],
 "metadata": {
  "kernelspec": {
   "display_name": "Python 3",
   "language": "python",
   "name": "python3"
  },
  "language_info": {
   "codemirror_mode": {
    "name": "ipython",
    "version": 3
   },
   "file_extension": ".py",
   "mimetype": "text/x-python",
   "name": "python",
   "nbconvert_exporter": "python",
   "pygments_lexer": "ipython3",
   "version": "3.10.12"
  }
 },
 "nbformat": 4,
 "nbformat_minor": 5
}
